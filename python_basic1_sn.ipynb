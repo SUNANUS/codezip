{
    {
      "cell_type": "markdown",
      "source": [
        "## 연습문제"
      ],
      "metadata": {
        "id": "P3eiJ3vXg7OO"
      }
    },
    {
      "cell_type": "markdown",
      "source": [
        "### **연습1:특정 위치 출력**\n",
        "나라온의 주민등록번호는 910906-201321이다. 년월일(YYYYMMDD) 부분과 그 뒤의 숫자 부분으로 나누어 출력해 보자."
      ],
      "metadata": {
        "id": "kgkQMOXMvMpo"
      }
    },
    {
      "cell_type": "code",
      "source": [
        "# 연습: 특정 위치 출력\n",
        "pin = \"910906-201321\"\n",
        "\n",
        "yyddmm = pin[:6]\n",
        "rest = pin[7:]\n",
        "\n",
        "print(yyddmm)\n",
        "print(rest)\n"
      ],
      "metadata": {
        "id": "yk6TIKKovNAq",
        "colab": {
          "base_uri": "https://localhost:8080/"
        },
        "outputId": "c764de08-533a-4bcb-839a-36fdccb2b7ff"
      },
      "execution_count": 1,
      "outputs": [
        {
          "output_type": "stream",
          "name": "stdout",
          "text": [
            "910906\n",
            "201321\n"
          ]
        }
      ]
    },
    {
      "cell_type": "markdown",
      "source": [
        "### **연습2: 출력 결과**\n",
        "다음 중 출력 결과가 다른 것 한 개를 골라 보자.  \n",
        "1) print(\"we\" \"are\" \"happy\")  \n",
        "2) print(\"we\", \"are\", \"happy\")  \n",
        "3) print(\"we\"+\"are\"+\"happy\")  \n",
        "4) print(\"\".join([\"we\", \"are\", \"happy\"]))  "
      ],
      "metadata": {
        "id": "gQgvGpREvqY6"
      }
    },
    {
      "cell_type": "code",
      "source": [
        "# 연습: 출력 결과\n",
        "print(\"we\" \"are\" \"happy\")\n",
        "print(\"we\", \"are\", \"happy\") # 얘만 띄어쓰기 됨\n",
        "print(\"we\"+\"are\"+\"happy\")\n",
        "print(\"\".join([\"we\", \"are\", \"happy\"]))\n"
      ],
      "metadata": {
        "id": "dqOQqvFjv6mV",
        "colab": {
          "base_uri": "https://localhost:8080/"
        },
        "outputId": "2df5fc28-1c70-436a-fe23-306b460556d4"
      },
      "execution_count": null,
      "outputs": [
        {
          "output_type": "stream",
          "name": "stdout",
          "text": [
            "wearehappy\n",
            "we are happy\n",
            "wearehappy\n",
            "wearehappy\n"
          ]
        }
      ]
    },
    {
      "cell_type": "markdown",
      "source": [
        "### **연습3: 문장 출력** \n",
        "다음 두 문장을 모든 부호(큰따옴표, 작은 따옴표)를 포함해서 하나의 print 문으로 출력해 보시오. (Hint: 삼중 따옴표 이용)\n",
        "\n",
        "\"She's gone! Yon' Heathcliff's run off wi' her!\" gasped the girl.  \n",
        "\"That is not true!\" exclaimed Linton, rising in agitation.\n"
      ],
      "metadata": {
        "id": "HrlBCE0GuQcQ"
      }
    },
    {
      "cell_type": "code",
      "source": [
        "# 연습: 문장 출력\n",
        "\n",
        "print(\"\"\"\n",
        "\"She's gone! Yon' Heathcliff's run off wi' her!\" gasped the girl.\n",
        "\"That is not true!\" exclaimed Linton, rising in agitation.\n",
        "\"\"\")"
      ],
      "metadata": {
        "id": "POWIotSLuaTG",
        "colab": {
          "base_uri": "https://localhost:8080/"
        },
        "outputId": "e395d710-4a1e-45d0-b2b2-4bf2f9c98b8e"
      },
      "execution_count": null,
      "outputs": [
        {
          "output_type": "stream",
          "name": "stdout",
          "text": [
            "\n",
            "\"She's gone! Yon' Heathcliff's run off wi' her!\" gasped the girl.\n",
            "\"That is not true!\" exclaimed Linton, rising in agitation.\n",
            "\n"
          ]
        }
      ]
    },
    {
      "cell_type": "markdown",
      "source": [
        "### **연습4: 가격 계산**  \n",
        "SM Restaurant에서 주문한 메뉴의 가격은 $31.45 이지만 가격의 8.6%에 해당되는 판매세를 추가해야 한다. 여기에 총 가격의 15%에 해당되는 팁까지 포함할 경우 지불해야 하는\n",
        "총 가격은 얼마인지 소수점 둘째자리까지 보여주시오. (계산 과정을 변수를 사용해서 보여주시오.)"
      ],
      "metadata": {
        "id": "BGIYrYghwpFw"
      }
    },
    {
      "cell_type": "code",
      "source": [
        "# 연습: 가격 계산 \n",
        "\n",
        "meal = 31.45\n",
        "tax_rate = 0.086\n",
        "tip_rate = 0.15\n",
        "\n",
        "cost = meal + (meal*tax_rate)\n",
        "cost = cost+(cost*tip_rate)\n",
        "\n",
        "print(cost)\n",
        "\n",
        "#소수점 둘째자리까지 보여주기\n",
        "print(\"{0:.2f}\".format(cost)) #얘\n",
        "print(\"{:.2f} dollar\".format(cost)) #얘\n",
        "print('%.2f dollar'%(cost))\n",
        "print(f'{cost:.2f} dollar') #얘\n",
        "print(round(cost,2),'dollar')"
      ],
      "metadata": {
        "id": "ieFPWxfcwqKS",
        "colab": {
          "base_uri": "https://localhost:8080/"
        },
        "outputId": "99ea767c-1bc2-46da-f762-848a565403de"
      },
      "execution_count": null,
      "outputs": [
        {
          "output_type": "stream",
          "name": "stdout",
          "text": [
            "39.277905\n",
            "39.28\n",
            "39.28 dollar\n",
            "39.28 dollar\n",
            "39.28 dollar\n",
            "39.28 dollar\n"
          ]
        }
      ]
    },
    {
      "cell_type": "markdown",
      "metadata": {
        "id": "K5scCFw1lcQS"
      },
      "source": [
        "### **연습5: 구구단 만들기**  \n",
        "for 문을 이용하여 다음과 같이 구구단 결과가 나오도록 만들시오.   \n",
        "   1 x 1 = 1  \n",
        "   1 x 2 = 2  \n",
        "   1 x 3 = 3  \n",
        "   :\n",
        "\n",
        "   9 x 9 = 81  \n"
      ]
    },
    {
      "cell_type": "code",
      "metadata": {
        "id": "P6qzRlsmlb8i",
        "colab": {
          "base_uri": "https://localhost:8080/"
        },
        "outputId": "7dcb59ee-afa9-4224-8f21-f56880facbf6"
      },
      "source": [
        "# 연습: 구구단 만들기\n",
        "\n",
        "for i in range(1, 10):\n",
        "  for k in range(1, 10):\n",
        "    print(i, \"x\", k, \"=\", i*k)\n",
        "    #print('%d X %d = %d' %(x,y,x*y))"
      ],
      "execution_count": null,
      "outputs": [
        {
          "output_type": "stream",
          "name": "stdout",
          "text": [
            "1 x 1 = 1\n",
            "1 x 2 = 2\n",
            "1 x 3 = 3\n",
            "1 x 4 = 4\n",
            "1 x 5 = 5\n",
            "1 x 6 = 6\n",
            "1 x 7 = 7\n",
            "1 x 8 = 8\n",
            "1 x 9 = 9\n",
            "2 x 1 = 2\n",
            "2 x 2 = 4\n",
            "2 x 3 = 6\n",
            "2 x 4 = 8\n",
            "2 x 5 = 10\n",
            "2 x 6 = 12\n",
            "2 x 7 = 14\n",
            "2 x 8 = 16\n",
            "2 x 9 = 18\n",
            "3 x 1 = 3\n",
            "3 x 2 = 6\n",
            "3 x 3 = 9\n",
            "3 x 4 = 12\n",
            "3 x 5 = 15\n",
            "3 x 6 = 18\n",
            "3 x 7 = 21\n",
            "3 x 8 = 24\n",
            "3 x 9 = 27\n",
            "4 x 1 = 4\n",
            "4 x 2 = 8\n",
            "4 x 3 = 12\n",
            "4 x 4 = 16\n",
            "4 x 5 = 20\n",
            "4 x 6 = 24\n",
            "4 x 7 = 28\n",
            "4 x 8 = 32\n",
            "4 x 9 = 36\n",
            "5 x 1 = 5\n",
            "5 x 2 = 10\n",
            "5 x 3 = 15\n",
            "5 x 4 = 20\n",
            "5 x 5 = 25\n",
            "5 x 6 = 30\n",
            "5 x 7 = 35\n",
            "5 x 8 = 40\n",
            "5 x 9 = 45\n",
            "6 x 1 = 6\n",
            "6 x 2 = 12\n",
            "6 x 3 = 18\n",
            "6 x 4 = 24\n",
            "6 x 5 = 30\n",
            "6 x 6 = 36\n",
            "6 x 7 = 42\n",
            "6 x 8 = 48\n",
            "6 x 9 = 54\n",
            "7 x 1 = 7\n",
            "7 x 2 = 14\n",
            "7 x 3 = 21\n",
            "7 x 4 = 28\n",
            "7 x 5 = 35\n",
            "7 x 6 = 42\n",
            "7 x 7 = 49\n",
            "7 x 8 = 56\n",
            "7 x 9 = 63\n",
            "8 x 1 = 8\n",
            "8 x 2 = 16\n",
            "8 x 3 = 24\n",
            "8 x 4 = 32\n",
            "8 x 5 = 40\n",
            "8 x 6 = 48\n",
            "8 x 7 = 56\n",
            "8 x 8 = 64\n",
            "8 x 9 = 72\n",
            "9 x 1 = 9\n",
            "9 x 2 = 18\n",
            "9 x 3 = 27\n",
            "9 x 4 = 36\n",
            "9 x 5 = 45\n",
            "9 x 6 = 54\n",
            "9 x 7 = 63\n",
            "9 x 8 = 72\n",
            "9 x 9 = 81\n"
          ]
        }
      ]
    },
    {
      "cell_type": "markdown",
      "source": [
        "### **연습6: 평균 구하기**  \n",
        "01분반 5명의 학생들의 중간고사 점수는 다음과 같다. sum, len 함수를 이용해서 평균 점수를 구해 보자.  \n",
        "\n",
        "score = [80, 60, 70, 50, 90]  \n"
      ],
      "metadata": {
        "id": "dkkyJrP4gwdb"
      }
    },
    {
      "cell_type": "code",
      "source": [
        "# 연습: 평균 구하기 \n",
        "score = [80, 60, 70, 50, 90] \n",
        "\n",
        "sum(score)/len(score)"
      ],
      "metadata": {
        "id": "0321sp0YgOG8",
        "colab": {
          "base_uri": "https://localhost:8080/"
        },
        "outputId": "099c6e84-03ca-4528-9c60-72ceb31611b7"
      },
      "execution_count": null,
      "outputs": [
        {
          "output_type": "execute_result",
          "data": {
            "text/plain": [
              "70.0"
            ]
          },
          "metadata": {},
          "execution_count": 2
        }
      ]
    },
    {
      "cell_type": "markdown",
      "source": [
        "### **연습7: join 함수**  \n",
        "다음 리스트를 join 함수를 이용하여 We are happy 문자열로 만들어 출력해 보자.\n",
        "\n",
        "mylist = ['We', 'are', 'happy']"
      ],
      "metadata": {
        "id": "v3dW8tnMwJ6K"
      }
    },
    {
      "cell_type": "code",
      "source": [
        "# 연습: join 함수   \n",
        "\n",
        "mylist = ['We', 'are', 'happy']\n",
        "\n",
        "words1 = \" \".join(mylist)\n",
        "print(words1)"
      ],
      "metadata": {
        "id": "aTkhypSywKlQ",
        "colab": {
          "base_uri": "https://localhost:8080/"
        },
        "outputId": "39cd67d3-ca49-4522-fe38-a5a284e7030e"
      },
      "execution_count": null,
      "outputs": [
        {
          "output_type": "stream",
          "name": "stdout",
          "text": [
            "We are happy\n"
          ]
        }
      ]
    },
    {
      "cell_type": "markdown",
      "source": [
        "### **심화 연습: for, if문**\n",
        "\n",
        "다음 문자열에서 모음 [ ‘a’, ‘e’, ‘i’, ‘o’, ‘u’ ] 이 몇 번 나오는지 출력하시오. (Hint: for, if 문 이용)\n",
        "\n",
        "tx = 'Perfection requires the hand of time'"
      ],
      "metadata": {
        "id": "XeBQ4r1poyMj"
      }
    },
    {
      "cell_type": "code",
      "source": [
        "# 추가 연습: for, if문\n",
        "\n",
        "#처음에 각각 몇번 나오는지 출력하는 문제로 이해해서 다음과 같이 코드를 입력했다.\n",
        "tx = 'Perfection requires the hand of time'\n",
        "\n",
        "li = ['a','e','i','o','u']\n",
        "c = [0,0,0,0,0]\n",
        "\n",
        "\n",
        "for a in tx:\n",
        "  for com in range(0,5):\n",
        "    if a == li[com]:\n",
        "      c[com] = c[com] + 1\n",
        "    else:\n",
        "      continue\n",
        "\n",
        "print(c)\n",
        "\n",
        "\n",
        "# 문제 이해 후 다시 입력한 코드\n",
        "tx = 'Perfection requires the hand of time'\n",
        "\n",
        "num = 0\n",
        "for x in tx:\n",
        "  if x in ['a','e','i','o','u']:\n",
        "    num = num+1\n",
        "\n",
        "print(num)\n"
      ],
      "metadata": {
        "id": "NxkGsr0vqWNr",
        "colab": {
          "base_uri": "https://localhost:8080/"
        },
        "outputId": "0a6dd0b0-193c-4103-df00-f65ed8c588ce"
      },
      "execution_count": 7,
      "outputs": [
        {
          "output_type": "stream",
          "name": "stdout",
          "text": [
            "[1, 6, 3, 2, 1]\n",
            "13\n"
          ]
        }
      ]
    },
    {
      "cell_type": "markdown",
      "metadata": {
        "id": "X-PsI4rp5UW6"
      },
      "source": [
        "## 심화.튜플 (tuple)\n",
        "튜플은 리스트와 거의 같은 용도로 사용되나 내용을 갱신할 수 없다는 제약을 갖는다. 즉, 상수화된 리스트라고 볼 수 있다.\n",
        "이렇게 상수화된 리스트를 사용하는 이유는 더 이상 내용을 변경하는 것을 방지하는 목적도 있고, 처리속도를 빠르게 한다는 장점도 있다.\n",
        "\n",
        "리스트를 만들때와 달리 튜플을 만들려면 ( )을 사용하거나 괄호를 넣지 않아도 된다."
      ]
    },
    {
      "cell_type": "code",
      "metadata": {
        "colab": {
          "base_uri": "https://localhost:8080/"
        },
        "id": "Nw0F2FI2zRFE",
        "outputId": "b639efef-7e49-48f4-8616-173be0d79951"
      },
      "source": [
        "t1 = (1, 3, 5)\n",
        "t2 = 2, 4, 6\n",
        "t3 = (1, )   # t3= (1) 이면 int 정수로 인식 \n",
        "t4 = ('a', 'b', ('ab', 'cd'))\n",
        "print(type(t1))\n",
        "print(type(t2))\n",
        "print(type(t3))\n",
        "print(type(t4))\n",
        "\n",
        "print(t1)\n",
        "print(t2)\n",
        "print(t3)\n",
        "print(t4)"
      ],
      "execution_count": null,
      "outputs": [
        {
          "output_type": "stream",
          "name": "stdout",
          "text": [
            "<class 'tuple'>\n",
            "<class 'tuple'>\n",
            "<class 'tuple'>\n",
            "<class 'tuple'>\n",
            "(1, 3, 5)\n",
            "(2, 4, 6)\n",
            "(1,)\n",
            "('a', 'b', ('ab', 'cd'))\n"
          ]
        }
      ]
    },
    {
      "cell_type": "markdown",
      "source": [
        "list(), tuple() 함수를 이용하여 튜플을 리스트로,  리스트를 튜플로 변환 가능하다. "
      ],
      "metadata": {
        "id": "uOQeVuf_yFnh"
      }
    },
    {
      "cell_type": "code",
      "metadata": {
        "colab": {
          "base_uri": "https://localhost:8080/"
        },
        "id": "_QqNqXKCzTIu",
        "outputId": "c3c866ac-06b1-4adf-88d3-7fc78ac50766"
      },
      "source": [
        "t = (1, 2, 3)\n",
        "print(t)\n",
        "\n",
        "l = list(t)\n",
        "print(l)\n",
        "\n",
        "t2 = tuple(l)\n",
        "print(t2)"
      ],
      "execution_count": null,
      "outputs": [
        {
          "output_type": "stream",
          "text": [
            "(1, 2, 3)\n",
            "[1, 2, 3]\n",
            "(1, 2, 3)\n"
          ],
          "name": "stdout"
        }
      ]
    },
    {
      "cell_type": "markdown",
      "metadata": {
        "id": "zJjMO0545MGk"
      },
      "source": [
        "## 심화.딕셔너리 (Dictionary)\n",
        "모든 항목이 '키(key)':값(value) 으로 구성되는 데이터 형식이다. 딕셔너리 데이터를 만들 때는 { }를 사용한다. [] 안에 키를 넣어 사용하면 해당 키의 값을 얻을 수 있다. 값으로는 상수, 리스트, 튜플 등 다양한 형식의 데이터를 사용할 수 있다. "
      ]
    },
    {
      "cell_type": "code",
      "metadata": {
        "colab": {
          "base_uri": "https://localhost:8080/"
        },
        "id": "AwA534Hy5Vyp",
        "outputId": "bed74d2a-7750-40ba-fce7-3cdce16baa7f"
      },
      "source": [
        "dic = {'id': 1, 'name': 'kim'}\n",
        "\n",
        "print(dic)\n",
        "print(type(dic))\n",
        "print(dic['id'])\n",
        "print(dic['name'])"
      ],
      "execution_count": null,
      "outputs": [
        {
          "output_type": "stream",
          "name": "stdout",
          "text": [
            "{'id': 1, 'name': 'kim'}\n",
            "<class 'dict'>\n",
            "1\n",
            "kim\n"
          ]
        }
      ]
    },
    {
      "cell_type": "code",
      "source": [
        "dic = {'id': 1, 'name': ['kim', 'park'], 'nclass':(1, 2, 3)}  # 2개 이상의 값도 가능하다 \n",
        "print(dic['name'])\n",
        "print(dic['nclass'][0])  # nclass의 첫번째 값 추출 "
      ],
      "metadata": {
        "colab": {
          "base_uri": "https://localhost:8080/"
        },
        "id": "wY1IAXEuz_rP",
        "outputId": "3eaa023b-3f6d-4a0d-f35c-cca039cf1d77"
      },
      "execution_count": null,
      "outputs": [
        {
          "output_type": "stream",
          "name": "stdout",
          "text": [
            "['kim', 'park']\n",
            "1\n"
          ]
        }
      ]
    },
    {
      "cell_type": "code",
      "metadata": {
        "colab": {
          "base_uri": "https://localhost:8080/"
        },
        "id": "uxyncyyW2GvN",
        "outputId": "6571b09f-1a93-4307-bd73-3d03fe8ca97d"
      },
      "source": [
        "dic = {'id': 1, 'name': ['kim', 'park'], 'nclass':(1, 2, 3)}  \n",
        "dic['score'] = [5, 6, 7]      # 새로운 키-값을 추가\n",
        "dic['id'] = 2                 # 값 변경  \n",
        "\n",
        "print(dic)"
      ],
      "execution_count": null,
      "outputs": [
        {
          "output_type": "stream",
          "name": "stdout",
          "text": [
            "{'id': 2, 'name': ['kim', 'park'], 'nclass': (1, 2, 3), 'score': [5, 6, 7]}\n"
          ]
        }
      ]
    },
    {
      "cell_type": "code",
      "metadata": {
        "colab": {
          "base_uri": "https://localhost:8080/"
        },
        "id": "7Ig8bbYNy-M2",
        "outputId": "84c69b58-b6f3-419d-ff43-3063d701017d"
      },
      "source": [
        "del dic['id']                     # 딕셔너리의 키-값 삭제 \n",
        "del dic['score'][1]               # score의 두번째 값 삭제 \n",
        "\n",
        "print(dic)"
      ],
      "execution_count": null,
      "outputs": [
        {
          "output_type": "stream",
          "name": "stdout",
          "text": [
            "{'name': ['kim', 'park'], 'nclass': (1, 2, 3), 'score': [5, 7]}\n"
          ]
        }
      ]
    },
    {
      "cell_type": "code",
      "metadata": {
        "colab": {
          "base_uri": "https://localhost:8080/"
        },
        "id": "wwMAYApyzAyj",
        "outputId": "7cd81214-e985-428f-ff34-65613c22ba29"
      },
      "source": [
        "d = {'person': 2, 'cat': 4, 'spider': 8}\n",
        "for animal in d:      # d 대신 d.keys()를 사용해도 동일한 결과를 얻음 \n",
        "    legs = d[animal]\n",
        "    print('This %s has %d legs.' %(animal, legs))"
      ],
      "execution_count": null,
      "outputs": [
        {
          "output_type": "stream",
          "name": "stdout",
          "text": [
            "This person has 2 legs.\n",
            "This cat has 4 legs.\n",
            "This spider has 8 legs.\n"
          ]
        }
      ]
    },
    {
      "cell_type": "code",
      "metadata": {
        "colab": {
          "base_uri": "https://localhost:8080/"
        },
        "id": "Xp8d5BRszCw3",
        "outputId": "d1914bb1-1e38-483a-d0bf-de64851591a0"
      },
      "source": [
        "#items() 함수는 키-값의 쌍을 튜플(key, value)로 묶은 값을 돌려준다.\n",
        "\n",
        "for animal, legs in d.items():\n",
        "    print('This %s has %d legs' %(animal, legs))"
      ],
      "execution_count": null,
      "outputs": [
        {
          "output_type": "stream",
          "name": "stdout",
          "text": [
            "This person has 2 legs\n",
            "This cat has 4 legs\n",
            "This spider has 8 legs\n"
          ]
        }
      ]
    }
  ]
}
