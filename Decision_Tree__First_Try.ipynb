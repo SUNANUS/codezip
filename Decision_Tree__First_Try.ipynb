{
  "nbformat": 4,
  "nbformat_minor": 0,
  "metadata": {
    "colab": {
      "provenance": [],
      "authorship_tag": "ABX9TyOsVKnx1x6eHnc6BfrbxeoX",
      "include_colab_link": true
    },
    "kernelspec": {
      "name": "python3",
      "display_name": "Python 3"
    },
    "language_info": {
      "name": "python"
    }
  },
  "cells": [
    {
      "cell_type": "markdown",
      "metadata": {
        "id": "view-in-github",
        "colab_type": "text"
      },
      "source": [
        "<a href=\"https://colab.research.google.com/github/SUNANUS/codezip/blob/main/Decision_Tree__First_Try.ipynb\" target=\"_parent\"><img src=\"https://colab.research.google.com/assets/colab-badge.svg\" alt=\"Open In Colab\"/></a>"
      ]
    },
    {
      "cell_type": "code",
      "source": [
        "train_df = pd.read_csv(train_path, sep=\",\")\n",
        "test_df = pd.read_csv(test_path, sep=\",\")"
      ],
      "metadata": {
        "id": "rLHWGd3mTLe-"
      },
      "execution_count": null,
      "outputs": []
    },
    {
      "cell_type": "code",
      "source": [
        "train_df.info()"
      ],
      "metadata": {
        "id": "ovX-6WUqTLwb"
      },
      "execution_count": null,
      "outputs": []
    },
    {
      "cell_type": "code",
      "source": [
        "#전처리-제거\n",
        "train_df = train_df.drop(['PassengerId', 'Name','Cabin'], axis=1)\n",
        "test_df = test_df.drop(['Name','Cabin'], axis=1)"
      ],
      "metadata": {
        "id": "faYaK0qNTL0J"
      },
      "execution_count": null,
      "outputs": []
    },
    {
      "cell_type": "code",
      "source": [
        "#전처리 -결측치 채워넣기\n",
        "train_df['Age'] = train_df['Age'].fillna(train_df['Age'].mean())\n",
        "\n",
        "most_freq = train_df['HomePlanet'].value_counts(dropna=True).idxmax()\n",
        "train_df['HomePlanet'].fillna(most_freq, inplace = True)\n",
        "\n",
        "most_freq = train_df['CryoSleep'].value_counts(dropna=True).idxmax()\n",
        "train_df['CryoSleep'].fillna(most_freq, inplace = True)\n",
        "\n",
        "most_freq = train_df['Destination'].value_counts(dropna=True).idxmax()\n",
        "train_df['Destination'].fillna(most_freq, inplace = True)\n",
        "\n",
        "most_freq = train_df['VIP'].value_counts(dropna=True).idxmax()\n",
        "train_df['VIP'].fillna(most_freq, inplace = True)\n",
        "\n",
        "#test 데이터도 전처리해주기\n",
        "test_df['Age'] = test_df['Age'].fillna(test_df['Age'].mean())\n",
        "\n",
        "most_freq = test_df['HomePlanet'].value_counts(dropna=True).idxmax()\n",
        "test_df['HomePlanet'].fillna(most_freq, inplace = True)\n",
        "\n",
        "most_freq = test_df['CryoSleep'].value_counts(dropna=True).idxmax()\n",
        "test_df['CryoSleep'].fillna(most_freq, inplace = True)\n",
        "\n",
        "most_freq = test_df['Destination'].value_counts(dropna=True).idxmax()\n",
        "test_df['Destination'].fillna(most_freq, inplace = True)\n",
        "\n",
        "most_freq = test_df['VIP'].value_counts(dropna=True).idxmax()\n",
        "test_df['VIP'].fillna(most_freq, inplace = True)"
      ],
      "metadata": {
        "id": "HFqK-WDATVES"
      },
      "execution_count": null,
      "outputs": []
    },
    {
      "cell_type": "code",
      "source": [
        "#전처리 -새로운 열추가\n",
        "train_df['Paid service']= 0\n",
        "train_df['Paid service'] = np.where((train_df['RoomService']>0)|(train_df['FoodCourt']>0)|(train_df['ShoppingMall']>0)|(train_df['Spa']>0)|(train_df['VRDeck']>0), 1, 0)\n",
        "\n",
        "#test 데이터도 전처리해주기\n",
        "test_df['Paid service']= 0\n",
        "test_df['Paid service'] = np.where((test_df['RoomService']>0)|(test_df['FoodCourt']>0)|(test_df['ShoppingMall']>0)|(test_df['Spa']>0)|(test_df['VRDeck']>0),1, 0)"
      ],
      "metadata": {
        "id": "Gl5fAOqHTVBv"
      },
      "execution_count": null,
      "outputs": []
    },
    {
      "cell_type": "code",
      "source": [
        "#전처리 - One-hot Encoding\n",
        "train_df[\"HomePlanet_Earth\"]=train_df[\"HomePlanet\"] ==\"Earth\"\n",
        "train_df[\"HomePlanet_Europa\"]=train_df[\"HomePlanet\"] ==\"Europa\"\n",
        "train_df[\"HomePlanet_Mars\"]=train_df[\"HomePlanet\"] ==\"Mars\"\n",
        "\n",
        "train_df[\"Destination_T\"]=train_df[\"Destination\"] ==\"TRAPPIST-1e\"\n",
        "train_df[\"Destination_55\"]=train_df[\"Destination\"] ==\"55 Cancri e\"\n",
        "train_df[\"Destination_P\"]=train_df[\"Destination\"] ==\"PSO J318.5-22\"\n",
        "\n",
        "#test 데이터도 전처리해주기\n",
        "test_df[\"HomePlanet_Earth\"]=test_df[\"HomePlanet\"] ==\"Earth\"\n",
        "test_df[\"HomePlanet_Europa\"]=test_df[\"HomePlanet\"] ==\"Europa\"\n",
        "test_df[\"HomePlanet_Mars\"]=test_df[\"HomePlanet\"] ==\"Mars\"\n",
        "\n",
        "test_df[\"Destination_T\"]=test_df[\"Destination\"] ==\"TRAPPIST-1e\"\n",
        "test_df[\"Destination_55\"]=test_df[\"Destination\"] ==\"55 Cancri e\"\n",
        "test_df[\"Destination_P\"]=test_df[\"Destination\"] ==\"PSO J318.5-22\"\n",
        "\n",
        "train_df.head(10)"
      ],
      "metadata": {
        "id": "9zAoaR0-TU-_"
      },
      "execution_count": null,
      "outputs": []
    },
    {
      "cell_type": "code",
      "source": [
        "feature_names = [\"HomePlanet_Earth\", \"HomePlanet_Europa\", \"HomePlanet_Mars\",\"CryoSleep\",\n",
        "                 \"Destination_T\", \"Destination_55\", \"Destination_P\", \n",
        "                 \"Age\",\"VIP\",\"Paid service\"]\n",
        "                 \n",
        "\n",
        "X_train = train_df[feature_names]\n",
        "\n",
        "print(X_train.shape)\n",
        "X_train.head()"
      ],
      "metadata": {
        "id": "ImkHsUtiTU8E"
      },
      "execution_count": null,
      "outputs": []
    },
    {
      "cell_type": "code",
      "source": [
        "label_name = \"Transported\"\n",
        "\n",
        "Y_train = train_df[label_name]\n",
        "\n",
        "print(Y_train.shape)\n",
        "\n",
        "Y_train.head()"
      ],
      "metadata": {
        "id": "fOL_RBgQTU4x"
      },
      "execution_count": null,
      "outputs": []
    },
    {
      "cell_type": "code",
      "source": [
        "from sklearn.tree import DecisionTreeClassifier\n",
        "from sklearn.model_selection import GridSearchCV\n",
        "from sklearn.metrics import accuracy_score\n",
        "\n",
        "model = DecisionTreeClassifier()"
      ],
      "metadata": {
        "id": "VETUqfbDTUuJ"
      },
      "execution_count": null,
      "outputs": []
    },
    {
      "cell_type": "code",
      "source": [
        "#최적하이퍼파라미터찾기\n",
        "params = {\n",
        "    'max_depth': [4, 5, 6, 7, 8],\n",
        "}\n",
        "\n",
        "grid_dclf = GridSearchCV(model, param_grid=params, scoring='accuracy', cv=5)\n",
        "grid_dclf.fit(X_train, Y_train)"
      ],
      "metadata": {
        "id": "NX8Sp-WQTsGj"
      },
      "execution_count": null,
      "outputs": []
    },
    {
      "cell_type": "code",
      "source": [
        "#후보 중 최적 하이퍼 파라미터 = 5 확인\n",
        "print('최적 하이퍼 파라미터:', grid_dclf.best_params_)"
      ],
      "metadata": {
        "id": "QOogRAEATr-p"
      },
      "execution_count": null,
      "outputs": []
    },
    {
      "cell_type": "code",
      "source": [
        "model = DecisionTreeClassifier(max_depth= 5)\n",
        "\n",
        "model.fit(X_train, Y_train)"
      ],
      "metadata": {
        "id": "RSMieN7CT0hM"
      },
      "execution_count": null,
      "outputs": []
    },
    {
      "cell_type": "code",
      "source": [
        "from sklearn.tree import export_graphviz\n",
        "import graphviz\n",
        "\n",
        "export_graphviz(model,\n",
        "                feature_names=feature_names,\n",
        "                class_names=[\"False\", \"True\"],\n",
        "                out_file=\"decision-tree.dot\")\n",
        "\n",
        "with open(\"decision-tree.dot\") as f:\n",
        "    dot_graph = f.read()\n",
        "    \n",
        "graphviz.Source(dot_graph)"
      ],
      "metadata": {
        "id": "U2svPpFaT0dH"
      },
      "execution_count": null,
      "outputs": []
    },
    {
      "cell_type": "code",
      "source": [
        "X_test=test_df[feature_names]\n",
        "model.predict(X_test)"
      ],
      "metadata": {
        "id": "evroaUdzT0Kj"
      },
      "execution_count": null,
      "outputs": []
    },
    {
      "cell_type": "code",
      "source": [
        "prediction_list=model.predict(X_test)\n",
        "\n",
        "result =pd.DataFrame({\n",
        "    'PassengerId': test_df['PassengerId'],\n",
        "    'Transported': prediction_list\n",
        "})\n",
        "result.to_csv('./suna.csv', index=False) "
      ],
      "metadata": {
        "id": "cv2BWQ-3T8xv"
      },
      "execution_count": null,
      "outputs": []
    }
  ]
}