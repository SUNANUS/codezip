{
  "nbformat": 4,
  "nbformat_minor": 0,
  "metadata": {
    "colab": {
      "provenance": [],
      "authorship_tag": "ABX9TyNlOG7iiOmtwyVd05SfMDkm",
      "include_colab_link": true
    },
    "kernelspec": {
      "name": "python3",
      "display_name": "Python 3"
    },
    "language_info": {
      "name": "python"
    }
  },
  "cells": [
    {
      "cell_type": "markdown",
      "metadata": {
        "id": "view-in-github",
        "colab_type": "text"
      },
      "source": [
        "<a href=\"https://colab.research.google.com/github/SUNANUS/codezip/blob/main/%5B3_1%5D_HW_2_3.ipynb\" target=\"_parent\"><img src=\"https://colab.research.google.com/assets/colab-badge.svg\" alt=\"Open In Colab\"/></a>"
      ]
    },
    {
      "cell_type": "code",
      "execution_count": null,
      "metadata": {
        "id": "xNHaoHOSfhuu"
      },
      "outputs": [],
      "source": [
        "import csv\n",
        "import pandas as pd\n",
        "from mlxtend.preprocessing import TransactionEncoder\n",
        "from sklearn.cluster import KMeans\n",
        "from sklearn.cluster import AgglomerativeClustering\n",
        "\n",
        "\n",
        "while True:\n",
        "    print(\"\\n1. Market Basket Analysis\\n2. Wine Clustering\\n3. Quit \")\n",
        "    function = int(input(\"\"))\n",
        "    \n",
        "    if function == 1:\n",
        "        algorithm = input(\"Select the algorithm ((a)priori or (f)p-growth) : \")\n",
        "        minsup = float(input(\"Enter the minimum support : \"))\n",
        "        print(\"잠시만 기다려주세요 ...\\n\")\n",
        "        df_g = pd.read_csv('groceries - groceries.csv')\n",
        "        size = len(df_g)\n",
        "        transactions = []\n",
        "        for i in range(0, size):\n",
        "            transactions.append([str(df_g.values[i,j]) for j in range(1, df_g.values[i,0]+1)])\n",
        "\n",
        "        te = TransactionEncoder()\n",
        "        te_ary = te.fit(transactions).transform(transactions)\n",
        "        df = pd.DataFrame(te_ary, columns=te.columns_)\n",
        "        df\n",
        "        \n",
        "        if algorithm == 'a':\n",
        "            from mlxtend.frequent_patterns import apriori\n",
        "            frequent_itemsets = apriori(df, min_support = minsup, use_colnames=True)\n",
        "            print(frequent_itemsets)\n",
        "        elif algorithm == 'f':\n",
        "            from mlxtend.frequent_patterns import fpgrowth\n",
        "            frequent_itemsets = fpgrowth(df, min_support = minsup, use_colnames=True)\n",
        "            print(frequent_itemsets)\n",
        "\n",
        "    elif function == 2:\n",
        "        algorithm2 = input(\"Select the algorithm ((k)-means or (h)ierarchical) : \")\n",
        "        k = int(input(\"Input the number of clusters : \"))\n",
        "        df_w = pd.read_csv('wine-clustering.csv')\n",
        "        \n",
        "        size = len(df_w)\n",
        "        X = []\n",
        "        for i in range(0, size):\n",
        "            X.append([float(df_w.values[i,j]) for j in range(0, 13)])\n",
        "\n",
        "        if algorithm2 == 'k':\n",
        "            model = KMeans(n_clusters = k, random_state = 0) \n",
        "            model.fit(X)\n",
        "            print(model.labels_)\n",
        "\n",
        "        elif algorithm2 == 'h':\n",
        "            model = AgglomerativeClustering(n_clusters = k)\n",
        "            model.fit(X)\n",
        "            print(model.labels_)\n",
        "        \n",
        "    elif function == 3:\n",
        "        break\n"
      ]
    }
  ]
}